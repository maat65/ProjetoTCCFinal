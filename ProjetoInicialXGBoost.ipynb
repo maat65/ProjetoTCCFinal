{
  "cells": [
    {
      "cell_type": "code",
      "execution_count": null,
      "metadata": {
        "id": "lpCajJdYZUSn"
      },
      "outputs": [],
      "source": [
        "import pandas as pd\n",
        "import numpy as np\n",
        "from sklearn.model_selection import train_test_split, GridSearchCV\n",
        "from xgboost import XGBClassifier\n",
        "from sklearn.metrics import confusion_matrix, classification_report\n"
      ]
    },
    {
      "cell_type": "code",
      "execution_count": 4,
      "metadata": {
        "colab": {
          "base_uri": "https://localhost:8080/"
        },
        "id": "vXcD6aqxdU8j",
        "outputId": "8dd1d2df-63e5-4860-f76f-268d0aa28f30"
      },
      "outputs": [
        {
          "name": "stderr",
          "output_type": "stream",
          "text": [
            "C:\\Users\\Mateu\\AppData\\Local\\Temp\\ipykernel_11624\\2030035574.py:2: DtypeWarning: Columns (15,18,20,23,61,62,63,72,74,79,91,93,108,109,120,130,143,171,175,178) have mixed types. Specify dtype option on import or set low_memory=False.\n",
            "  df = pd.read_csv('INFLUD23.csv', sep=';', encoding='latin1')\n"
          ]
        }
      ],
      "source": [
        "# Carregar os dados\n",
        "df = pd.read_csv('INFLUD23.csv', sep=';', encoding='latin1')"
      ]
    },
    {
      "cell_type": "code",
      "execution_count": 4,
      "metadata": {
        "id": "8w7QupCgd9D0"
      },
      "outputs": [],
      "source": [
        "# 2. Criar variáveis compostas básicas\n",
        "df['SINTOMA_GRAVE'] = ((df['DISPNEIA'] == 1) | (df['DESC_RESP'] == 1) | (df['SATURACAO'] == 1)).astype(int)\n",
        "df['COMORBIDADE_GRAVE'] = ((df['DIABETES'] == 1) | (df['CARDIOPATI'] == 1) | (df['OBESIDADE'] == 1)).astype(int)\n",
        "df['INTERNACAO_GRAVE'] = ((df['HOSPITAL'] == 1) | (df['UTI'] == 1)).astype(int)\n",
        "\n",
        "# 3. Definir as variáveis utilizadas no modelo\n",
        "variaveis_modelo = [\n",
        "    # Sintomas\n",
        "    'FEBRE', 'TOSSE', 'GARGANTA', 'DISPNEIA', 'DESC_RESP', 'SATURACAO',\n",
        "    'DIARREIA', 'VOMITO', 'OUTRO_SIN', 'DOR_ABD', 'FADIGA', 'PERD_OLFT', 'PERD_PALA',\n",
        "\n",
        "    # Comorbidades\n",
        "    'PUERPERA', 'FATOR_RISC', 'CARDIOPATI', 'HEMATOLOGI', 'HEPATICA', 'ASMA',\n",
        "    'DIABETES', 'NEUROLOGIC', 'PNEUMOPATI', 'IMUNODEPRE', 'RENAL', 'OBESIDADE', 'OBES_IMC',\n",
        "\n",
        "    # Gravidade\n",
        "    'HOSPITAL', 'UTI', 'SUPORT_VEN', 'RAIOX_RES', 'TOMO_RES',\n",
        "\n",
        "    # Vacinação\n",
        "    'VACINA_COV', 'DOSE_1_COV', 'DOSE_2_COV',\n",
        "\n",
        "    # Variáveis compostas\n",
        "    'SINTOMA_GRAVE', 'COMORBIDADE_GRAVE', 'INTERNACAO_GRAVE'\n",
        "]"
      ]
    },
    {
      "cell_type": "code",
      "execution_count": 5,
      "metadata": {
        "colab": {
          "base_uri": "https://localhost:8080/"
        },
        "id": "bk8D8V6YeDn8",
        "outputId": "a65321d6-a5b7-48e5-903d-01e0bfe8eca4"
      },
      "outputs": [
        {
          "name": "stderr",
          "output_type": "stream",
          "text": [
            "<ipython-input-5-5edf317a56dd>:21: SettingWithCopyWarning: \n",
            "A value is trying to be set on a copy of a slice from a DataFrame.\n",
            "Try using .loc[row_indexer,col_indexer] = value instead\n",
            "\n",
            "See the caveats in the documentation: https://pandas.pydata.org/pandas-docs/stable/user_guide/indexing.html#returning-a-view-versus-a-copy\n",
            "  X[col] = pd.to_numeric(X[col], errors='coerce')\n",
            "<ipython-input-5-5edf317a56dd>:29: SettingWithCopyWarning: \n",
            "A value is trying to be set on a copy of a slice from a DataFrame.\n",
            "Try using .loc[row_indexer,col_indexer] = value instead\n",
            "\n",
            "See the caveats in the documentation: https://pandas.pydata.org/pandas-docs/stable/user_guide/indexing.html#returning-a-view-versus-a-copy\n",
            "  X['RAIOX_RES'] = X['RAIOX_RES'].map(mapeamento_resultado_imagem)\n",
            "<ipython-input-5-5edf317a56dd>:30: SettingWithCopyWarning: \n",
            "A value is trying to be set on a copy of a slice from a DataFrame.\n",
            "Try using .loc[row_indexer,col_indexer] = value instead\n",
            "\n",
            "See the caveats in the documentation: https://pandas.pydata.org/pandas-docs/stable/user_guide/indexing.html#returning-a-view-versus-a-copy\n",
            "  X['TOMO_RES'] = X['TOMO_RES'].map(mapeamento_resultado_imagem)\n"
          ]
        }
      ],
      "source": [
        "# 4. Definir o alvo\n",
        "y_total = df['CLASSI_FIN']\n",
        "X = df[variaveis_modelo]\n",
        "\n",
        "# 5. Pré-processamento\n",
        "X = X.replace(9, np.nan)\n",
        "X = X.dropna(thresh=len(variaveis_modelo) - 5)\n",
        "X = X.fillna(0)\n",
        "y = y_total.loc[X.index]\n",
        "\n",
        "validos = ~y.isna()\n",
        "X = X.loc[validos]\n",
        "y = y.loc[validos]\n",
        "\n",
        "X = X[y != 4]\n",
        "y = y[y != 4]\n",
        "\n",
        "# 6. Corrigir tipos de variáveis\n",
        "colunas_para_numeric = ['OBES_IMC', 'DOSE_1_COV', 'DOSE_2_COV']\n",
        "for col in colunas_para_numeric:\n",
        "    X[col] = pd.to_numeric(X[col], errors='coerce')\n",
        "\n",
        "# Mapear resultado de exames de imagem\n",
        "mapeamento_resultado_imagem = {\n",
        "    'NORMAL': 0,\n",
        "    'ALTERADO': 1,\n",
        "    'INDETERMINADO': 2\n",
        "}\n",
        "X['RAIOX_RES'] = X['RAIOX_RES'].map(mapeamento_resultado_imagem)\n",
        "X['TOMO_RES'] = X['TOMO_RES'].map(mapeamento_resultado_imagem)\n",
        "\n",
        "# 7. Separação treino/teste (SEM STRATIFY)\n",
        "X_train, X_test, y_train, y_test = train_test_split(X, y, test_size=0.3, random_state=42)"
      ]
    },
    {
      "cell_type": "code",
      "execution_count": 6,
      "metadata": {
        "id": "P5esI7Jze3-0"
      },
      "outputs": [],
      "source": [
        "# 8. Mapear classes\n",
        "mapeamento_classes = {1: 0, 2: 1, 3: 2, 5: 3}\n",
        "y_train = y_train.map(mapeamento_classes)\n",
        "y_test = y_test.map(mapeamento_classes)\n",
        "\n",
        "# 9. Definir o modelo base\n",
        "modelo_base = XGBClassifier(use_label_encoder=False, eval_metric='mlogloss', random_state=42)"
      ]
    },
    {
      "cell_type": "code",
      "execution_count": 7,
      "metadata": {
        "colab": {
          "base_uri": "https://localhost:8080/"
        },
        "id": "YWeFU1r1gZut",
        "outputId": "88f1e410-4b46-487b-fafe-34e4454ba0c8"
      },
      "outputs": [
        {
          "name": "stdout",
          "output_type": "stream",
          "text": [
            "Fitting 3 folds for each of 36 candidates, totalling 108 fits\n"
          ]
        },
        {
          "name": "stderr",
          "output_type": "stream",
          "text": [
            "/usr/local/lib/python3.11/dist-packages/xgboost/core.py:158: UserWarning: [18:39:48] WARNING: /workspace/src/learner.cc:740: \n",
            "Parameters: { \"use_label_encoder\" } are not used.\n",
            "\n",
            "  warnings.warn(smsg, UserWarning)\n"
          ]
        },
        {
          "name": "stdout",
          "output_type": "stream",
          "text": [
            "\n",
            "Melhores parâmetros: {'learning_rate': 0.2, 'max_depth': 4, 'n_estimators': 100, 'subsample': 1}\n",
            "Acurácia do melhor modelo: 0.6315563889633002\n"
          ]
        }
      ],
      "source": [
        "# 10. Definir o grid de hiperparâmetros\n",
        "param_grid = {\n",
        "    'n_estimators': [100, 200],\n",
        "    'max_depth': [4, 6, 10],\n",
        "    'learning_rate': [0.01, 0.1, 0.2],\n",
        "    'subsample': [0.8, 1]\n",
        "}\n",
        "\n",
        "# 11. Configurar o GridSearchCV\n",
        "grid_search = GridSearchCV(estimator=modelo_base, param_grid=param_grid,\n",
        "                           cv=3, n_jobs=-1, verbose=2)\n",
        "\n",
        "# 12. Treinar o GridSearch\n",
        "grid_search.fit(X_train, y_train)\n",
        "\n",
        "# 13. Avaliar o melhor modelo\n",
        "melhor_modelo = grid_search.best_estimator_\n",
        "\n",
        "print(\"\\nMelhores parâmetros:\", grid_search.best_params_)\n",
        "print(\"Acurácia do melhor modelo:\", melhor_modelo.score(X_test, y_test))"
      ]
    },
    {
      "cell_type": "code",
      "execution_count": 8,
      "metadata": {
        "colab": {
          "base_uri": "https://localhost:8080/"
        },
        "id": "uvItjemBHlF5",
        "outputId": "4e8916a1-f077-4467-8e5f-16725ed9a25e"
      },
      "outputs": [
        {
          "name": "stdout",
          "output_type": "stream",
          "text": [
            "(547484, 193)\n",
            "['DT_NOTIFIC', 'SEM_NOT', 'DT_SIN_PRI', 'SEM_PRI', 'SG_UF_NOT', 'ID_REGIONA', 'CO_REGIONA', 'ID_MUNICIP', 'CO_MUN_NOT', 'ID_UNIDADE', 'CO_UNI_NOT', 'CS_SEXO', 'DT_NASC', 'NU_IDADE_N', 'TP_IDADE', 'COD_IDADE', 'CS_GESTANT', 'CS_RACA', 'CS_ESCOL_N', 'ID_PAIS', 'CO_PAIS', 'SG_UF', 'ID_RG_RESI', 'CO_RG_RESI', 'ID_MN_RESI', 'CO_MUN_RES', 'CS_ZONA', 'SURTO_SG', 'NOSOCOMIAL', 'AVE_SUINO', 'FEBRE', 'TOSSE', 'GARGANTA', 'DISPNEIA', 'DESC_RESP', 'SATURACAO', 'DIARREIA', 'VOMITO', 'OUTRO_SIN', 'OUTRO_DES', 'PUERPERA', 'FATOR_RISC', 'CARDIOPATI', 'HEMATOLOGI', 'SIND_DOWN', 'HEPATICA', 'ASMA', 'DIABETES', 'NEUROLOGIC', 'PNEUMOPATI', 'IMUNODEPRE', 'RENAL', 'OBESIDADE', 'OBES_IMC', 'OUT_MORBI', 'MORB_DESC', 'VACINA', 'DT_UT_DOSE', 'MAE_VAC', 'DT_VAC_MAE', 'M_AMAMENTA', 'DT_DOSEUNI', 'DT_1_DOSE', 'DT_2_DOSE', 'ANTIVIRAL', 'TP_ANTIVIR', 'OUT_ANTIV', 'DT_ANTIVIR', 'HOSPITAL', 'DT_INTERNA', 'SG_UF_INTE', 'ID_RG_INTE', 'CO_RG_INTE', 'ID_MN_INTE', 'CO_MU_INTE', 'UTI', 'DT_ENTUTI', 'DT_SAIDUTI', 'SUPORT_VEN', 'RAIOX_RES', 'RAIOX_OUT', 'DT_RAIOX', 'AMOSTRA', 'DT_COLETA', 'TP_AMOSTRA', 'OUT_AMOST', 'PCR_RESUL', 'DT_PCR', 'POS_PCRFLU', 'TP_FLU_PCR', 'PCR_FLUASU', 'FLUASU_OUT', 'PCR_FLUBLI', 'FLUBLI_OUT', 'POS_PCROUT', 'PCR_VSR', 'PCR_PARA1', 'PCR_PARA2', 'PCR_PARA3', 'PCR_PARA4', 'PCR_ADENO', 'PCR_METAP', 'PCR_BOCA', 'PCR_RINO', 'PCR_OUTRO', 'DS_PCR_OUT', 'CLASSI_FIN', 'CLASSI_OUT', 'CRITERIO', 'EVOLUCAO', 'DT_EVOLUCA', 'DT_ENCERRA', 'DT_DIGITA', 'HISTO_VGM', 'PAIS_VGM', 'CO_PS_VGM', 'LO_PS_VGM', 'DT_VGM', 'DT_RT_VGM', 'PCR_SARS2', 'PAC_COCBO', 'PAC_DSCBO', 'OUT_ANIM', 'DOR_ABD', 'FADIGA', 'PERD_OLFT', 'PERD_PALA', 'TOMO_RES', 'TOMO_OUT', 'DT_TOMO', 'TP_TES_AN', 'DT_RES_AN', 'RES_AN', 'POS_AN_FLU', 'TP_FLU_AN', 'POS_AN_OUT', 'AN_SARS2', 'AN_VSR', 'AN_PARA1', 'AN_PARA2', 'AN_PARA3', 'AN_ADENO', 'AN_OUTRO', 'DS_AN_OUT', 'TP_AM_SOR', 'SOR_OUT', 'DT_CO_SOR', 'TP_SOR', 'OUT_SOR', 'DT_RES', 'RES_IGG', 'RES_IGM', 'RES_IGA', 'ESTRANG', 'VACINA_COV', 'DOSE_1_COV', 'DOSE_2_COV', 'DOSE_REF', 'FAB_COV_1', 'FAB_COV_2', 'FAB_COVREF', 'LAB_PR_COV', 'LOTE_1_COV', 'LOTE_2_COV', 'LOTE_REF', 'FNT_IN_COV', 'DOSE_2REF', 'FAB_COVRF2', 'LOTE_REF2', 'TRAT_COV', 'TIPO_TRAT', 'OUT_TRAT', 'DT_TRT_COV', 'CO_DETEC', 'VG_OMS', 'VG_OMSOUT', 'VG_LIN', 'VG_MET', 'VG_METOUT', 'VG_DTRES', 'VG_ENC', 'VG_REINF', 'REINF', 'FAB_ADIC', 'LOT_RE_BI', 'FAB_RE_BI', 'DOSE_ADIC', 'DOS_RE_BI', 'LOTE_ADIC', 'TABAG', 'SINTOMA_GRAVE', 'COMORBIDADE_GRAVE', 'INTERNACAO_GRAVE']\n",
            "CLASSI_FIN\n",
            "4.0    288000\n",
            "2.0    113809\n",
            "5.0     81498\n",
            "1.0     39158\n",
            "NaN     17371\n",
            "3.0      7648\n",
            "Name: count, dtype: int64\n"
          ]
        }
      ],
      "source": [
        "print(df.shape)\n",
        "print(df.columns.tolist())\n",
        "print(df['CLASSI_FIN'].value_counts(dropna=False))"
      ]
    },
    {
      "cell_type": "code",
      "execution_count": null,
      "metadata": {
        "colab": {
          "base_uri": "https://localhost:8080/"
        },
        "id": "MwlLaoPrxnha",
        "outputId": "b42b8d79-f410-47a8-b69a-42d874d122b6"
      },
      "outputs": [
        {
          "name": "stdout",
          "output_type": "stream",
          "text": [
            "Requirement already satisfied: xgboost in /usr/local/lib/python3.11/dist-packages (2.1.4)\n",
            "Requirement already satisfied: numpy in /usr/local/lib/python3.11/dist-packages (from xgboost) (2.0.2)\n",
            "Requirement already satisfied: nvidia-nccl-cu12 in /usr/local/lib/python3.11/dist-packages (from xgboost) (2.21.5)\n",
            "Requirement already satisfied: scipy in /usr/local/lib/python3.11/dist-packages (from xgboost) (1.15.2)\n"
          ]
        }
      ],
      "source": [
        "pip install xgboost"
      ]
    }
  ],
  "metadata": {
    "colab": {
      "provenance": []
    },
    "kernelspec": {
      "display_name": "Python 3",
      "name": "python3"
    },
    "language_info": {
      "codemirror_mode": {
        "name": "ipython",
        "version": 3
      },
      "file_extension": ".py",
      "mimetype": "text/x-python",
      "name": "python",
      "nbconvert_exporter": "python",
      "pygments_lexer": "ipython3",
      "version": "3.12.10"
    }
  },
  "nbformat": 4,
  "nbformat_minor": 0
}
